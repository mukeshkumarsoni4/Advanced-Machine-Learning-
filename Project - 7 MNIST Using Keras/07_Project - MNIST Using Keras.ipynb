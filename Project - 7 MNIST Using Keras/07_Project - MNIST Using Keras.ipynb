{
 "cells": [
  {
   "cell_type": "markdown",
   "id": "5d56c2f5",
   "metadata": {},
   "source": [
    "# MNIST Dataset"
   ]
  },
  {
   "cell_type": "markdown",
   "id": "26b22185",
   "metadata": {},
   "source": [
    "The MNIST database of handwritten digits. The dataset has a training set of 60,000 examples and a test set of 10,000 examples. It is a subset of a larger set available from NIST. The digits have been size-normalized and centered in a fixed-size image. This is a dataset of 28x28 grayscale images of the 10 digits (integer in the range 0-9)"
   ]
  },
  {
   "cell_type": "markdown",
   "id": "84f80ade",
   "metadata": {},
   "source": [
    "# TensorFlow Datasets"
   ]
  },
  {
   "cell_type": "markdown",
   "id": "519d5cd0",
   "metadata": {},
   "source": [
    "From TensorFlow Datasets (TFDS) we can get a collection of ready-to-use datasets. We can use the datasets with TensorFlow, and other Machine Learning frameworks."
   ]
  },
  {
   "cell_type": "markdown",
   "id": "22b5ddf9",
   "metadata": {},
   "source": [
    "# Import Libraries"
   ]
  },
  {
   "cell_type": "code",
   "execution_count": 47,
   "id": "e4ab92a6",
   "metadata": {},
   "outputs": [],
   "source": [
    "import matplotlib.pyplot as plt"
   ]
  },
  {
   "cell_type": "code",
   "execution_count": 48,
   "id": "7ca3428a",
   "metadata": {},
   "outputs": [],
   "source": [
    "import tensorflow as tf"
   ]
  },
  {
   "cell_type": "code",
   "execution_count": 49,
   "id": "58949676",
   "metadata": {},
   "outputs": [],
   "source": [
    "import tensorflow_datasets as tfds"
   ]
  },
  {
   "cell_type": "code",
   "execution_count": 50,
   "id": "85847f58",
   "metadata": {},
   "outputs": [
    {
     "data": {
      "text/plain": [
       "['abstract_reasoning',\n",
       " 'accentdb',\n",
       " 'aeslc',\n",
       " 'aflw2k3d',\n",
       " 'ag_news_subset',\n",
       " 'ai2_arc',\n",
       " 'ai2_arc_with_ir',\n",
       " 'amazon_us_reviews',\n",
       " 'anli',\n",
       " 'answer_equivalence',\n",
       " 'arc',\n",
       " 'asqa',\n",
       " 'asset',\n",
       " 'assin2',\n",
       " 'asu_table_top_converted_externally_to_rlds',\n",
       " 'austin_buds_dataset_converted_externally_to_rlds',\n",
       " 'austin_sailor_dataset_converted_externally_to_rlds',\n",
       " 'austin_sirius_dataset_converted_externally_to_rlds',\n",
       " 'bair_robot_pushing_small',\n",
       " 'bc_z',\n",
       " 'bccd',\n",
       " 'beans',\n",
       " 'bee_dataset',\n",
       " 'beir',\n",
       " 'berkeley_autolab_ur5',\n",
       " 'berkeley_cable_routing',\n",
       " 'berkeley_fanuc_manipulation',\n",
       " 'berkeley_gnm_cory_hall',\n",
       " 'berkeley_gnm_recon',\n",
       " 'berkeley_gnm_sac_son',\n",
       " 'berkeley_mvp_converted_externally_to_rlds',\n",
       " 'berkeley_rpt_converted_externally_to_rlds',\n",
       " 'big_patent',\n",
       " 'bigearthnet',\n",
       " 'billsum',\n",
       " 'binarized_mnist',\n",
       " 'binary_alpha_digits',\n",
       " 'ble_wind_field',\n",
       " 'blimp',\n",
       " 'booksum',\n",
       " 'bool_q',\n",
       " 'bot_adversarial_dialogue',\n",
       " 'bridge',\n",
       " 'bucc',\n",
       " 'c4',\n",
       " 'c4_wsrs',\n",
       " 'caltech101',\n",
       " 'caltech_birds2010',\n",
       " 'caltech_birds2011',\n",
       " 'cardiotox',\n",
       " 'cars196',\n",
       " 'cassava',\n",
       " 'cats_vs_dogs',\n",
       " 'celeb_a',\n",
       " 'celeb_a_hq',\n",
       " 'cfq',\n",
       " 'cherry_blossoms',\n",
       " 'chexpert',\n",
       " 'cifar10',\n",
       " 'cifar100',\n",
       " 'cifar100_n',\n",
       " 'cifar10_1',\n",
       " 'cifar10_corrupted',\n",
       " 'cifar10_h',\n",
       " 'cifar10_n',\n",
       " 'citrus_leaves',\n",
       " 'cityscapes',\n",
       " 'civil_comments',\n",
       " 'clevr',\n",
       " 'clic',\n",
       " 'clinc_oos',\n",
       " 'cmaterdb',\n",
       " 'cmu_franka_exploration_dataset_converted_externally_to_rlds',\n",
       " 'cmu_play_fusion',\n",
       " 'cmu_stretch',\n",
       " 'cnn_dailymail',\n",
       " 'coco',\n",
       " 'coco_captions',\n",
       " 'coil100',\n",
       " 'colorectal_histology',\n",
       " 'colorectal_histology_large',\n",
       " 'columbia_cairlab_pusht_real',\n",
       " 'common_voice',\n",
       " 'conll2002',\n",
       " 'conll2003',\n",
       " 'controlled_noisy_web_labels',\n",
       " 'coqa',\n",
       " 'corr2cause',\n",
       " 'cos_e',\n",
       " 'cosmos_qa',\n",
       " 'covid19',\n",
       " 'covid19sum',\n",
       " 'crema_d',\n",
       " 'criteo',\n",
       " 'cs_restaurants',\n",
       " 'curated_breast_imaging_ddsm',\n",
       " 'cycle_gan',\n",
       " 'd4rl_adroit_door',\n",
       " 'd4rl_adroit_hammer',\n",
       " 'd4rl_adroit_pen',\n",
       " 'd4rl_adroit_relocate',\n",
       " 'd4rl_antmaze',\n",
       " 'd4rl_mujoco_ant',\n",
       " 'd4rl_mujoco_halfcheetah',\n",
       " 'd4rl_mujoco_hopper',\n",
       " 'd4rl_mujoco_walker2d',\n",
       " 'dart',\n",
       " 'databricks_dolly',\n",
       " 'davis',\n",
       " 'deep1b',\n",
       " 'deep_weeds',\n",
       " 'definite_pronoun_resolution',\n",
       " 'dementiabank',\n",
       " 'diabetic_retinopathy_detection',\n",
       " 'diamonds',\n",
       " 'div2k',\n",
       " 'dlr_edan_shared_control_converted_externally_to_rlds',\n",
       " 'dlr_sara_grid_clamp_converted_externally_to_rlds',\n",
       " 'dlr_sara_pour_converted_externally_to_rlds',\n",
       " 'dmlab',\n",
       " 'doc_nli',\n",
       " 'dolphin_number_word',\n",
       " 'domainnet',\n",
       " 'downsampled_imagenet',\n",
       " 'drop',\n",
       " 'dsprites',\n",
       " 'dtd',\n",
       " 'duke_ultrasound',\n",
       " 'e2e_cleaned',\n",
       " 'efron_morris75',\n",
       " 'emnist',\n",
       " 'eraser_multi_rc',\n",
       " 'esnli',\n",
       " 'eth_agent_affordances',\n",
       " 'eurosat',\n",
       " 'fashion_mnist',\n",
       " 'flic',\n",
       " 'flores',\n",
       " 'food101',\n",
       " 'forest_fires',\n",
       " 'fuss',\n",
       " 'gap',\n",
       " 'geirhos_conflict_stimuli',\n",
       " 'gem',\n",
       " 'genomics_ood',\n",
       " 'german_credit_numeric',\n",
       " 'gigaword',\n",
       " 'glove100_angular',\n",
       " 'glue',\n",
       " 'goemotions',\n",
       " 'gov_report',\n",
       " 'gpt3',\n",
       " 'gref',\n",
       " 'groove',\n",
       " 'grounded_scan',\n",
       " 'gsm8k',\n",
       " 'gtzan',\n",
       " 'gtzan_music_speech',\n",
       " 'hellaswag',\n",
       " 'higgs',\n",
       " 'hillstrom',\n",
       " 'horses_or_humans',\n",
       " 'howell',\n",
       " 'i_naturalist2017',\n",
       " 'i_naturalist2018',\n",
       " 'i_naturalist2021',\n",
       " 'iamlab_cmu_pickup_insert_converted_externally_to_rlds',\n",
       " 'imagenet2012',\n",
       " 'imagenet2012_corrupted',\n",
       " 'imagenet2012_fewshot',\n",
       " 'imagenet2012_multilabel',\n",
       " 'imagenet2012_real',\n",
       " 'imagenet2012_subset',\n",
       " 'imagenet_a',\n",
       " 'imagenet_lt',\n",
       " 'imagenet_pi',\n",
       " 'imagenet_r',\n",
       " 'imagenet_resized',\n",
       " 'imagenet_sketch',\n",
       " 'imagenet_v2',\n",
       " 'imagenette',\n",
       " 'imagewang',\n",
       " 'imdb_reviews',\n",
       " 'imperialcollege_sawyer_wrist_cam',\n",
       " 'irc_disentanglement',\n",
       " 'iris',\n",
       " 'istella',\n",
       " 'jaco_play',\n",
       " 'kaist_nonprehensile_converted_externally_to_rlds',\n",
       " 'kddcup99',\n",
       " 'kitti',\n",
       " 'kmnist',\n",
       " 'kuka',\n",
       " 'laion400m',\n",
       " 'lambada',\n",
       " 'lfw',\n",
       " 'librispeech',\n",
       " 'librispeech_lm',\n",
       " 'libritts',\n",
       " 'ljspeech',\n",
       " 'lm1b',\n",
       " 'locomotion',\n",
       " 'lost_and_found',\n",
       " 'lsun',\n",
       " 'lvis',\n",
       " 'malaria',\n",
       " 'maniskill_dataset_converted_externally_to_rlds',\n",
       " 'math_dataset',\n",
       " 'math_qa',\n",
       " 'mctaco',\n",
       " 'media_sum',\n",
       " 'mlqa',\n",
       " 'mnist',\n",
       " 'mnist_corrupted',\n",
       " 'movie_lens',\n",
       " 'movie_rationales',\n",
       " 'movielens',\n",
       " 'moving_mnist',\n",
       " 'mrqa',\n",
       " 'mslr_web',\n",
       " 'mt_opt',\n",
       " 'mtnt',\n",
       " 'multi_news',\n",
       " 'multi_nli',\n",
       " 'multi_nli_mismatch',\n",
       " 'natural_instructions',\n",
       " 'natural_questions',\n",
       " 'natural_questions_open',\n",
       " 'newsroom',\n",
       " 'nsynth',\n",
       " 'nyu_depth_v2',\n",
       " 'nyu_door_opening_surprising_effectiveness',\n",
       " 'nyu_franka_play_dataset_converted_externally_to_rlds',\n",
       " 'nyu_rot_dataset_converted_externally_to_rlds',\n",
       " 'ogbg_molpcba',\n",
       " 'omniglot',\n",
       " 'open_images_challenge2019_detection',\n",
       " 'open_images_v4',\n",
       " 'openbookqa',\n",
       " 'opinion_abstracts',\n",
       " 'opinosis',\n",
       " 'opus',\n",
       " 'oxford_flowers102',\n",
       " 'oxford_iiit_pet',\n",
       " 'para_crawl',\n",
       " 'pass',\n",
       " 'patch_camelyon',\n",
       " 'paws_wiki',\n",
       " 'paws_x_wiki',\n",
       " 'penguins',\n",
       " 'pet_finder',\n",
       " 'pg19',\n",
       " 'piqa',\n",
       " 'places365_small',\n",
       " 'placesfull',\n",
       " 'plant_leaves',\n",
       " 'plant_village',\n",
       " 'plantae_k',\n",
       " 'protein_net',\n",
       " 'q_re_cc',\n",
       " 'qa4mre',\n",
       " 'qasc',\n",
       " 'quac',\n",
       " 'quality',\n",
       " 'quickdraw_bitmap',\n",
       " 'race',\n",
       " 'radon',\n",
       " 'real_toxicity_prompts',\n",
       " 'reddit',\n",
       " 'reddit_disentanglement',\n",
       " 'reddit_tifu',\n",
       " 'ref_coco',\n",
       " 'resisc45',\n",
       " 'rlu_atari',\n",
       " 'rlu_atari_checkpoints',\n",
       " 'rlu_atari_checkpoints_ordered',\n",
       " 'rlu_control_suite',\n",
       " 'rlu_dmlab_explore_object_rewards_few',\n",
       " 'rlu_dmlab_explore_object_rewards_many',\n",
       " 'rlu_dmlab_rooms_select_nonmatching_object',\n",
       " 'rlu_dmlab_rooms_watermaze',\n",
       " 'rlu_dmlab_seekavoid_arena01',\n",
       " 'rlu_locomotion',\n",
       " 'rlu_rwrl',\n",
       " 'robomimic_mg',\n",
       " 'robomimic_mh',\n",
       " 'robomimic_ph',\n",
       " 'robonet',\n",
       " 'robosuite_panda_pick_place_can',\n",
       " 'roboturk',\n",
       " 'rock_paper_scissors',\n",
       " 'rock_you',\n",
       " 's3o4d',\n",
       " 'salient_span_wikipedia',\n",
       " 'samsum',\n",
       " 'savee',\n",
       " 'scan',\n",
       " 'scene_parse150',\n",
       " 'schema_guided_dialogue',\n",
       " 'sci_tail',\n",
       " 'scicite',\n",
       " 'scientific_papers',\n",
       " 'scrolls',\n",
       " 'segment_anything',\n",
       " 'sentiment140',\n",
       " 'shapes3d',\n",
       " 'sift1m',\n",
       " 'simpte',\n",
       " 'siscore',\n",
       " 'smallnorb',\n",
       " 'smartwatch_gestures',\n",
       " 'snli',\n",
       " 'so2sat',\n",
       " 'speech_commands',\n",
       " 'spoken_digit',\n",
       " 'squad',\n",
       " 'squad_question_generation',\n",
       " 'stanford_dogs',\n",
       " 'stanford_hydra_dataset_converted_externally_to_rlds',\n",
       " 'stanford_kuka_multimodal_dataset_converted_externally_to_rlds',\n",
       " 'stanford_mask_vit_converted_externally_to_rlds',\n",
       " 'stanford_online_products',\n",
       " 'stanford_robocook_converted_externally_to_rlds',\n",
       " 'star_cfq',\n",
       " 'starcraft_video',\n",
       " 'stl10',\n",
       " 'story_cloze',\n",
       " 'summscreen',\n",
       " 'sun397',\n",
       " 'super_glue',\n",
       " 'svhn_cropped',\n",
       " 'symmetric_solids',\n",
       " 'taco_play',\n",
       " 'tao',\n",
       " 'tatoeba',\n",
       " 'ted_hrlr_translate',\n",
       " 'ted_multi_translate',\n",
       " 'tedlium',\n",
       " 'tf_flowers',\n",
       " 'the300w_lp',\n",
       " 'tiny_shakespeare',\n",
       " 'titanic',\n",
       " 'tokyo_u_lsmo_converted_externally_to_rlds',\n",
       " 'toto',\n",
       " 'trec',\n",
       " 'trivia_qa',\n",
       " 'tydi_qa',\n",
       " 'uc_merced',\n",
       " 'ucf101',\n",
       " 'ucsd_kitchen_dataset_converted_externally_to_rlds',\n",
       " 'ucsd_pick_and_place_dataset_converted_externally_to_rlds',\n",
       " 'uiuc_d3field',\n",
       " 'unified_qa',\n",
       " 'universal_dependencies',\n",
       " 'unnatural_instructions',\n",
       " 'usc_cloth_sim_converted_externally_to_rlds',\n",
       " 'user_libri_audio',\n",
       " 'user_libri_text',\n",
       " 'utaustin_mutex',\n",
       " 'utokyo_pr2_opening_fridge_converted_externally_to_rlds',\n",
       " 'utokyo_pr2_tabletop_manipulation_converted_externally_to_rlds',\n",
       " 'utokyo_saytap_converted_externally_to_rlds',\n",
       " 'utokyo_xarm_bimanual_converted_externally_to_rlds',\n",
       " 'utokyo_xarm_pick_and_place_converted_externally_to_rlds',\n",
       " 'vctk',\n",
       " 'viola',\n",
       " 'visual_domain_decathlon',\n",
       " 'voc',\n",
       " 'voxceleb',\n",
       " 'voxforge',\n",
       " 'waymo_open_dataset',\n",
       " 'web_graph',\n",
       " 'web_nlg',\n",
       " 'web_questions',\n",
       " 'webvid',\n",
       " 'wider_face',\n",
       " 'wiki40b',\n",
       " 'wiki_auto',\n",
       " 'wiki_bio',\n",
       " 'wiki_dialog',\n",
       " 'wiki_table_questions',\n",
       " 'wiki_table_text',\n",
       " 'wikiann',\n",
       " 'wikihow',\n",
       " 'wikipedia',\n",
       " 'wikipedia_toxicity_subtypes',\n",
       " 'wine_quality',\n",
       " 'winogrande',\n",
       " 'wit',\n",
       " 'wit_kaggle',\n",
       " 'wmt13_translate',\n",
       " 'wmt14_translate',\n",
       " 'wmt15_translate',\n",
       " 'wmt16_translate',\n",
       " 'wmt17_translate',\n",
       " 'wmt18_translate',\n",
       " 'wmt19_translate',\n",
       " 'wmt_t2t_translate',\n",
       " 'wmt_translate',\n",
       " 'wordnet',\n",
       " 'wsc273',\n",
       " 'xnli',\n",
       " 'xquad',\n",
       " 'xsum',\n",
       " 'xtreme_pawsx',\n",
       " 'xtreme_pos',\n",
       " 'xtreme_s',\n",
       " 'xtreme_xnli',\n",
       " 'yahoo_ltrc',\n",
       " 'yelp_polarity_reviews',\n",
       " 'yes_no',\n",
       " 'youtube_vis']"
      ]
     },
     "execution_count": 50,
     "metadata": {},
     "output_type": "execute_result"
    }
   ],
   "source": [
    "tfds.list_builders()"
   ]
  },
  {
   "cell_type": "markdown",
   "id": "aebc8279",
   "metadata": {},
   "source": [
    "## Load Dataset using TensorFlow Dataset Objects"
   ]
  },
  {
   "cell_type": "markdown",
   "id": "56edd387",
   "metadata": {},
   "source": [
    "### tfds.load() Function"
   ]
  },
  {
   "cell_type": "code",
   "execution_count": 51,
   "id": "15584851",
   "metadata": {},
   "outputs": [],
   "source": [
    "(nn_train, nn_test), nn_info = tfds.load(\n",
    "  'mnist',\n",
    "    split=['train','test'],\n",
    "    shuffle_files=True,\n",
    "    as_supervised=True,\n",
    "    with_info=True,\n",
    ")"
   ]
  },
  {
   "cell_type": "markdown",
   "id": "e182f321",
   "metadata": {},
   "source": [
    "## Visualize Image using Matplotlib"
   ]
  },
  {
   "cell_type": "code",
   "execution_count": 52,
   "id": "f322ac0e",
   "metadata": {},
   "outputs": [
    {
     "data": {
      "image/png": "[encoded data removed]",
      "text/plain": [
       "<Figure size 900x900 with 4 Axes>"
      ]
     },
     "metadata": {},
     "output_type": "display_data"
    }
   ],
   "source": [
    "fig = tfds.show_examples(nn_train.take(4), nn_info)"
   ]
  },
  {
   "cell_type": "markdown",
   "id": "f2f386a9",
   "metadata": {},
   "source": [
    "## Training Pipeline"
   ]
  },
  {
   "cell_type": "code",
   "execution_count": 53,
   "id": "21620f45",
   "metadata": {},
   "outputs": [],
   "source": [
    "def img_normalize(image, label):\n",
    " \"\"\"Normalizes images : 'uint8' -> 'float32'.\"\"\"\n",
    " return tf.cast(image, tf.float32)/255., label\n",
    "\n",
    "nn_train = nn_train.map(img_normalize, num_parallel_calls=tf.data.AUTOTUNE)\n",
    "nn_train = nn_train.cache()\n",
    "nn_train = nn_train.shuffle(nn_info.splits['train'].num_examples)\n",
    "nn_train = nn_train.batch(128)\n",
    "nn_train = nn_train.prefetch(tf.data.AUTOTUNE)"
   ]
  },
  {
   "cell_type": "markdown",
   "id": "f990db84",
   "metadata": {},
   "source": [
    "# Prefetch"
   ]
  },
  {
   "cell_type": "markdown",
   "id": "16fc84fd",
   "metadata": {},
   "source": [
    "## Naive Approach"
   ]
  },
  {
   "cell_type": "markdown",
   "id": "5fed8504",
   "metadata": {},
   "source": [
    "In this approach, the model sits idle, when the pipeline fetches the data.\n",
    "\n",
    "Similarly, the input pipeline sits idle, when the model is training.\n",
    "\n",
    "Therefore, the training step time is the sum of opening, reading, and training times"
   ]
  },
  {
   "cell_type": "markdown",
   "id": "c280bb2e",
   "metadata": {},
   "source": [
    "## Prefetch"
   ]
  },
  {
   "cell_type": "markdown",
   "id": "cf4fd1ea",
   "metadata": {},
   "source": [
    "For a training step, there is an overlap between the dataset preprocessing step and model execution.\n",
    "\n",
    "While the model executes the training step s, the input pipeline reads the data for step s+1\n",
    "\n",
    "Therefore, the step time reduces\n",
    "\n",
    "The approach decouples the time when data is produced from the time when data is consumed."
   ]
  },
  {
   "cell_type": "markdown",
   "id": "7393066e",
   "metadata": {},
   "source": [
    "## Evaluation Pipeline"
   ]
  },
  {
   "cell_type": "code",
   "execution_count": 54,
   "id": "c261b59a",
   "metadata": {},
   "outputs": [],
   "source": [
    "nn_test = nn_test.map(\n",
    "    img_normalize, num_parallel_calls = tf.data.AUTOTUNE)\n",
    "\n",
    "nn_test = nn_test.batch(128)\n",
    "nn_test = nn_test.cache()\n",
    "nn_test = nn_test.prefetch(tf.data.AUTOTUNE)"
   ]
  },
  {
   "cell_type": "markdown",
   "id": "fcc6acb3",
   "metadata": {},
   "source": [
    "## Model"
   ]
  },
  {
   "cell_type": "code",
   "execution_count": 55,
   "id": "5a375c7d",
   "metadata": {},
   "outputs": [],
   "source": [
    "model = tf.keras.models.Sequential([\n",
    "    tf.keras.layers.Flatten(input_shape=(28,28)),\n",
    "    tf.keras.layers.Dense(128,activation='relu'),\n",
    "    tf.keras.layers.Dense(10)\n",
    "])"
   ]
  },
  {
   "cell_type": "code",
   "execution_count": 56,
   "id": "ac5bb306",
   "metadata": {},
   "outputs": [],
   "source": [
    "model.compile(\n",
    "    optimizer=tf.keras.optimizers.Adam(0.001),\n",
    "    loss=tf.keras.losses.SparseCategoricalCrossentropy(from_logits=True),\n",
    "    metrics=[tf.keras.metrics.SparseCategoricalAccuracy()],\n",
    ")"
   ]
  },
  {
   "cell_type": "code",
   "execution_count": 57,
   "id": "c73dd61d",
   "metadata": {},
   "outputs": [
    {
     "name": "stdout",
     "output_type": "stream",
     "text": [
      "Epoch 1/20\n",
      "469/469 [==============================] - 8s 7ms/step - loss: 0.3556 - sparse_categorical_accuracy: 0.9014 - val_loss: 0.1882 - val_sparse_categorical_accuracy: 0.9467\n",
      "Epoch 2/20\n",
      "469/469 [==============================] - 2s 5ms/step - loss: 0.1633 - sparse_categorical_accuracy: 0.9532 - val_loss: 0.1395 - val_sparse_categorical_accuracy: 0.9591\n",
      "Epoch 3/20\n",
      "469/469 [==============================] - 2s 4ms/step - loss: 0.1161 - sparse_categorical_accuracy: 0.9659 - val_loss: 0.1148 - val_sparse_categorical_accuracy: 0.9651\n",
      "Epoch 4/20\n",
      "469/469 [==============================] - 2s 4ms/step - loss: 0.0894 - sparse_categorical_accuracy: 0.9743 - val_loss: 0.0975 - val_sparse_categorical_accuracy: 0.9693\n",
      "Epoch 5/20\n",
      "469/469 [==============================] - 2s 4ms/step - loss: 0.0728 - sparse_categorical_accuracy: 0.9794 - val_loss: 0.0915 - val_sparse_categorical_accuracy: 0.9720\n",
      "Epoch 6/20\n",
      "469/469 [==============================] - 2s 4ms/step - loss: 0.0612 - sparse_categorical_accuracy: 0.9819 - val_loss: 0.0835 - val_sparse_categorical_accuracy: 0.9753\n",
      "Epoch 7/20\n",
      "469/469 [==============================] - 2s 4ms/step - loss: 0.0506 - sparse_categorical_accuracy: 0.9859 - val_loss: 0.0742 - val_sparse_categorical_accuracy: 0.9770\n",
      "Epoch 8/20\n",
      "469/469 [==============================] - 2s 5ms/step - loss: 0.0425 - sparse_categorical_accuracy: 0.9879 - val_loss: 0.0803 - val_sparse_categorical_accuracy: 0.9759\n",
      "Epoch 9/20\n",
      "469/469 [==============================] - 2s 5ms/step - loss: 0.0358 - sparse_categorical_accuracy: 0.9897 - val_loss: 0.0723 - val_sparse_categorical_accuracy: 0.9779\n",
      "Epoch 10/20\n",
      "469/469 [==============================] - 2s 5ms/step - loss: 0.0307 - sparse_categorical_accuracy: 0.9919 - val_loss: 0.0752 - val_sparse_categorical_accuracy: 0.9771\n",
      "Epoch 11/20\n",
      "469/469 [==============================] - 2s 5ms/step - loss: 0.0257 - sparse_categorical_accuracy: 0.9933 - val_loss: 0.0744 - val_sparse_categorical_accuracy: 0.9765\n",
      "Epoch 12/20\n",
      "469/469 [==============================] - 2s 4ms/step - loss: 0.0221 - sparse_categorical_accuracy: 0.9943 - val_loss: 0.0734 - val_sparse_categorical_accuracy: 0.9787\n",
      "Epoch 13/20\n",
      "469/469 [==============================] - 2s 4ms/step - loss: 0.0186 - sparse_categorical_accuracy: 0.9955 - val_loss: 0.0686 - val_sparse_categorical_accuracy: 0.9793\n",
      "Epoch 14/20\n",
      "469/469 [==============================] - 2s 4ms/step - loss: 0.0157 - sparse_categorical_accuracy: 0.9963 - val_loss: 0.0710 - val_sparse_categorical_accuracy: 0.9812\n",
      "Epoch 15/20\n",
      "469/469 [==============================] - 2s 4ms/step - loss: 0.0135 - sparse_categorical_accuracy: 0.9969 - val_loss: 0.0706 - val_sparse_categorical_accuracy: 0.9797\n",
      "Epoch 16/20\n",
      "469/469 [==============================] - 2s 4ms/step - loss: 0.0119 - sparse_categorical_accuracy: 0.9974 - val_loss: 0.0720 - val_sparse_categorical_accuracy: 0.9792\n",
      "Epoch 17/20\n",
      "469/469 [==============================] - 2s 5ms/step - loss: 0.0103 - sparse_categorical_accuracy: 0.9978 - val_loss: 0.0748 - val_sparse_categorical_accuracy: 0.9791\n",
      "Epoch 18/20\n",
      "469/469 [==============================] - 2s 5ms/step - loss: 0.0081 - sparse_categorical_accuracy: 0.9986 - val_loss: 0.0774 - val_sparse_categorical_accuracy: 0.9784\n",
      "Epoch 19/20\n",
      "469/469 [==============================] - 2s 4ms/step - loss: 0.0070 - sparse_categorical_accuracy: 0.9988 - val_loss: 0.0781 - val_sparse_categorical_accuracy: 0.9793\n",
      "Epoch 20/20\n",
      "469/469 [==============================] - 2s 4ms/step - loss: 0.0063 - sparse_categorical_accuracy: 0.9989 - val_loss: 0.0777 - val_sparse_categorical_accuracy: 0.9794\n"
     ]
    }
   ],
   "source": [
    "history = model.fit(\n",
    "    nn_train,\n",
    "    epochs=20,\n",
    "    validation_data=nn_test,\n",
    ")"
   ]
  },
  {
   "cell_type": "markdown",
   "id": "3cd64e12",
   "metadata": {},
   "source": [
    "## Plot Training and Validation Loss"
   ]
  },
  {
   "cell_type": "code",
   "execution_count": 58,
   "id": "f7c4c764",
   "metadata": {},
   "outputs": [
    {
     "data": {
      "image/png": "[encoded data removed]",
      "text/plain": [
       "<Figure size 640x480 with 1 Axes>"
      ]
     },
     "metadata": {},
     "output_type": "display_data"
    }
   ],
   "source": [
    "loss = history.history['loss']\n",
    "val_loss = history.history['val_loss']\n",
    "epochs = range(1, len(loss) + 1)\n",
    "plt.plot(epochs, loss, 'bo', label='Training loss')\n",
    "plt.plot(epochs, val_loss, 'b', label='Validation loss')\n",
    "plt.title('Training and Validation loss')\n",
    "plt.xlabel('Epochs')\n",
    "plt.ylabel('Loss')\n",
    "plt.legend()\n",
    "plt.show()"
   ]
  },
  {
   "cell_type": "markdown",
   "id": "5da138fb",
   "metadata": {},
   "source": [
    "## Plot Training and Validation Accuracy"
   ]
  },
  {
   "cell_type": "code",
   "execution_count": 62,
   "id": "14fdccfa",
   "metadata": {},
   "outputs": [
    {
     "data": {
      "image/png": "[encoded data removed]",
      "text/plain": [
       "<Figure size 640x480 with 1 Axes>"
      ]
     },
     "metadata": {},
     "output_type": "display_data"
    }
   ],
   "source": [
    "acc = history.history['sparse_categorical_accuracy']\n",
    "val_acc = history.history['val_sparse_categorical_accuracy']\n",
    "plt.plot(epochs, acc, 'bo', label='Training acc')\n",
    "plt.plot(epochs, val_acc, 'b', label='Validation acc')\n",
    "plt.title('Training and validation accuracy')\n",
    "plt.xlabel('Epochs')\n",
    "plt.ylabel('Loss')\n",
    "plt.legend()\n",
    "plt.show()"
   ]
  },
  {
   "cell_type": "code",
   "execution_count": null,
   "id": "93efd9d0",
   "metadata": {},
   "outputs": [],
   "source": []
  }
 ],
 "metadata": {
  "kernelspec": {
   "display_name": "Python 3 (ipykernel)",
   "language": "python",
   "name": "python3"
  },
  "language_info": {
   "codemirror_mode": {
    "name": "ipython",
    "version": 3
   },
   "file_extension": ".py",
   "mimetype": "text/x-python",
   "name": "python",
   "nbconvert_exporter": "python",
   "pygments_lexer": "ipython3",
   "version": "3.11.4"
  }
 },
 "nbformat": 4,
 "nbformat_minor": 5
}
